{
 "cells": [
  {
   "cell_type": "code",
   "execution_count": 2,
   "id": "08846044-2adb-46eb-b5f7-509bd02836c1",
   "metadata": {
    "tags": []
   },
   "outputs": [],
   "source": [
    "import csv\n",
    "import json\n",
    "import os\n",
    "import uuid\n",
    "import tqdm\n",
    "import networkx as nx\n",
    "import re"
   ]
  },
  {
   "cell_type": "markdown",
   "id": "896f59f6-3ca7-4666-b5db-131eb11d7d35",
   "metadata": {},
   "source": [
    "## Record Chunker"
   ]
  },
  {
   "cell_type": "code",
   "execution_count": 3,
   "id": "f5cc365e-6159-49fe-9e74-270fb477998b",
   "metadata": {
    "tags": []
   },
   "outputs": [],
   "source": [
    "data = []\n",
    "\n",
    "with open('./business_data/source_data/Place-Complete-v2-2023-09-13.csv') as file:\n",
    "    reader = csv.DictReader(file)\n",
    "    for row in reader:\n",
    "        data.append(row)\n",
    "    file.close()\n",
    "    \n",
    "#with open('./business_data/source_data/Producing-Objects-v1-2023-08-07.csv') as file:\n",
    "#    reader = csv.DictReader(file)\n",
    "#    for row in reader:\n",
    "#        data.append(row)\n",
    "#    file.close()"
   ]
  },
  {
   "cell_type": "code",
   "execution_count": 4,
   "id": "7cc6d504-fc05-4a28-90d7-47dae86bad23",
   "metadata": {
    "tags": []
   },
   "outputs": [],
   "source": [
    "data.sort(key=lambda x: x['ResourceID']) # If needed, reorder"
   ]
  },
  {
   "cell_type": "code",
   "execution_count": 5,
   "id": "fb5262c3-b314-49c8-9d1a-f720d74378f4",
   "metadata": {
    "tags": []
   },
   "outputs": [],
   "source": [
    "def save_csv_files(data, file_prefix): ## Thank you ChatGPT\n",
    "    num_records_per_file = 1000\n",
    "    num_files = len(data) // num_records_per_file + 1\n",
    "\n",
    "    for i in range(num_files):\n",
    "        start_index = i * num_records_per_file\n",
    "        end_index = start_index + num_records_per_file\n",
    "        records = data[start_index:end_index]\n",
    "\n",
    "        filename = f\"{file_prefix}_{i+1}.csv\"\n",
    "        with open(filename, 'w') as file:\n",
    "            fieldnames = list(data[0].keys())\n",
    "            writer = csv.DictWriter(file, fieldnames=fieldnames)\n",
    "            writer.writeheader()\n",
    "            for row in records:\n",
    "                writer.writerow(row)\n",
    "        \n",
    "        "
   ]
  },
  {
   "cell_type": "code",
   "execution_count": 6,
   "id": "7546a975-e4d4-4b47-b566-a8bf176903d8",
   "metadata": {
    "tags": []
   },
   "outputs": [],
   "source": [
    "save_csv_files(data, 'Place')"
   ]
  },
  {
   "cell_type": "code",
   "execution_count": 262,
   "id": "1ee1fd45-6a4e-4697-aa21-c2de617478b4",
   "metadata": {
    "tags": []
   },
   "outputs": [],
   "source": [
    "# concatenate organisations and supplied csvs\n",
    "\n",
    "# orgs\n",
    "\n",
    "organisations = []\n",
    "\n",
    "with open('./business_data/source_data/Organisation-Complete-v3-2023-06-30.csv') as file:\n",
    "    reader = csv.DictReader(file)\n",
    "    for row in reader:\n",
    "        organisations.append(row)\n",
    "    file.close()\n",
    "    \n",
    "with open('./business_data/source_data/OrganisationsFromObjects-v1-2023-07-11.csv') as file:\n",
    "    reader = csv.DictReader(file)\n",
    "    for row in reader:\n",
    "        organisations.append(row)\n",
    "    file.close()"
   ]
  },
  {
   "cell_type": "code",
   "execution_count": 263,
   "id": "b3b99a8e-3c0f-4cc9-93e3-febcf05b6d82",
   "metadata": {
    "tags": []
   },
   "outputs": [],
   "source": [
    "with open('./business_data/source_data/Organisation-Complete-v4-2023-07-11.csv', 'w') as file:\n",
    "    writer = csv.DictWriter(file, fieldnames=list(organisations[0].keys()))\n",
    "    writer.writeheader()\n",
    "    organisations.sort(key=lambda row: row['ResourceID'])\n",
    "    for row in organisations:\n",
    "        writer.writerow(row)\n",
    "    file.close()"
   ]
  },
  {
   "cell_type": "code",
   "execution_count": 71,
   "id": "e3824582-b0b4-4b87-838e-085eaebe7e92",
   "metadata": {
    "tags": []
   },
   "outputs": [],
   "source": [
    "# Supplied\n",
    "\n",
    "supplying = []\n",
    "\n",
    "with open('business_data/source_data/SuppliedFromMisc-v2-2023-06-14.csv') as file:\n",
    "    reader = csv.DictReader(file)\n",
    "    for row in reader:\n",
    "        supplying.append(row)\n",
    "    file.close()\n",
    "    \n",
    "with open('business_data/source_data/SuppliedFromRelations-v1-2023-06-14.csv') as file:\n",
    "    reader = csv.DictReader(file)\n",
    "    for row in reader:\n",
    "        supplying.append(row)\n",
    "    file.close()"
   ]
  },
  {
   "cell_type": "code",
   "execution_count": 73,
   "id": "947b2d0f-f621-4efe-862b-e019e4be76f4",
   "metadata": {
    "tags": []
   },
   "outputs": [
    {
     "name": "stdout",
     "output_type": "stream",
     "text": [
      "['Supplying Start Date Value', 'Supplying Start Date Type', 'Supplying Start Date Confidence Note', 'Supplying Start Date Confidence Probability Value', 'Supplying Start Date Confidence Type', 'Supplying Start Date - Additional Notes', 'Supplying Start Date Confidence Assessment - Additional Notes', 'Supplying End Date Value', 'Supplying End Date Type', 'Supplying End Date Confidence Note', 'Supplying End Date Confidence Probability Value', 'Supplying End Date Confidence Type', 'Supplying End Date - Additional Notes', 'Supplying End Date Confidence Assessment - Additional Notes', 'Supplied Objects of Type', 'Supplied Specific Object(s)', 'Supplied Object(s) Produced By', 'Supplying - Additional Notes', 'Supplying - Original SIMON Text', 'ResourceID', 'Supplied By', 'Supplied To', 'Supplying End Date', 'Supplying End Date Confidence Assessment', 'Supplying Start Date', 'Supplying Start Date Confidence Assessment', 'Supplying - Original SIMON Text ']\n"
     ]
    }
   ],
   "source": [
    "fieldnames = []\n",
    "for s in supplying:\n",
    "    for k in s.keys():\n",
    "        if k not in fieldnames:\n",
    "            fieldnames.append(k)\n",
    "            \n",
    "print(fieldnames)"
   ]
  },
  {
   "cell_type": "code",
   "execution_count": null,
   "id": "ec74d67e-5c37-431c-8183-8eb25dc3e5f5",
   "metadata": {
    "tags": []
   },
   "outputs": [],
   "source": [
    "with open('./business_data/source_data/SupplyingComplete-v1-2023-06-14.csv', 'w') as file:\n",
    "    writer = csv.DictWriter(file, fieldnames=fieldnames)\n",
    "    writer.writeheader()\n",
    "    supplying.sort(key=lambda row: row['ResourceID'])\n",
    "    for row in supplying:\n",
    "        writer.writerow(row)\n",
    "    file.close()"
   ]
  },
  {
   "cell_type": "code",
   "execution_count": 7,
   "id": "eb1f7fb6-6e82-4e48-8710-706937af669e",
   "metadata": {},
   "outputs": [],
   "source": [
    "# Concatenate Memberships\n",
    "\n",
    "guild_memberships = []\n",
    "\n",
    "misc_memberships = []\n",
    "\n",
    "with open('./business_data/source_data/Guild-Memberships-v1-2023-06-06.csv') as file:\n",
    "    reader = csv.DictReader(file)\n",
    "    for row in reader:\n",
    "        guild_memberships.append(row)\n",
    "    file.close()\n",
    "\n",
    "with open('./business_data/source_data/MembershipFromMisc-v2-2023-06-19-csv.csv') as file:\n",
    "    reader = csv.DictReader(file)\n",
    "    for row in reader:\n",
    "        misc_memberships.append(row)\n",
    "    file.close()"
   ]
  },
  {
   "cell_type": "code",
   "execution_count": 8,
   "id": "ea96d50f-1356-4265-8e6b-8ff64a6c7bb0",
   "metadata": {
    "tags": []
   },
   "outputs": [
    {
     "data": {
      "text/plain": [
       "1841"
      ]
     },
     "execution_count": 8,
     "metadata": {},
     "output_type": "execute_result"
    }
   ],
   "source": [
    "len(guild_memberships)"
   ]
  },
  {
   "cell_type": "code",
   "execution_count": 9,
   "id": "128d6e46-bc78-4ba9-ba81-51c55c866ee6",
   "metadata": {
    "tags": []
   },
   "outputs": [
    {
     "data": {
      "text/plain": [
       "143"
      ]
     },
     "execution_count": 9,
     "metadata": {},
     "output_type": "execute_result"
    }
   ],
   "source": [
    "len(misc_memberships)"
   ]
  },
  {
   "cell_type": "code",
   "execution_count": 10,
   "id": "0e1da996-0aae-44f1-b51c-458769a7160b",
   "metadata": {
    "tags": []
   },
   "outputs": [
    {
     "data": {
      "text/plain": [
       "dict_keys(['ResourceID', 'Membership Start Date', 'Membership Start Date Confidence Assessment', 'Membership Start Date Confidence Type', 'Membership Start Date Confidence Note', 'Membership Start Date Confidence Probability Value', 'Membership Start Date Confidence Assessment - Additional Notes', 'Membership Start Date - Additional Notes', 'Membership Start Date Type', 'Membership Start Date Value', 'Membership - Original SIMON Text', 'Membership Type', 'Membership End Date', 'Membership End Date Type', 'Membership End Date Confidence Assessment', 'Membership End Date Confidence Note', 'Membership End Date Confidence Probability Value', 'Membership End Date Confidence Assessment - Additional Notes', 'Membership End Date Confidence Type', 'Membership End Date - Additional Notes', 'Membership End Date Value', 'Membership - Additional Notes', 'Member of Organisation', 'Member'])"
      ]
     },
     "execution_count": 10,
     "metadata": {},
     "output_type": "execute_result"
    }
   ],
   "source": [
    "guild_memberships[0].keys()"
   ]
  },
  {
   "cell_type": "code",
   "execution_count": 11,
   "id": "eed8102b-08b0-4d56-b32f-f817df670d5d",
   "metadata": {
    "tags": []
   },
   "outputs": [
    {
     "data": {
      "text/plain": [
       "dict_keys(['\\ufeffMember - Makers_ref', 'Member - Name', 'Member of Organisation - Name', 'Member of Organisation - UUID', 'Membership Start Date Value', 'Membership Start Date Type', 'Membership Start Date Confidence Note', 'Membership Start Date Confidence Probability Value', 'Membership Start Date Confidence Type', 'Membership Start Date  - Additional Notes', 'Membership Start Date Confidence Assessment  - Additional Notes', 'Membership End Date Value', 'Membership End Date Type', 'Membership End Date Confidence Note', 'Membership End Date Confidence Probability Value', 'Membership End Date Confidence Type', 'Membership End Date - Additional Notes', 'Membership End Date Confidence Assessment  - Additional Notes', 'Membership Type', 'Membership - Additional Notes', 'Membership - Original SIMON Text', 'ResourceID', 'Member', 'Member of Organisation'])"
      ]
     },
     "execution_count": 11,
     "metadata": {},
     "output_type": "execute_result"
    }
   ],
   "source": [
    "misc_memberships[0].keys()"
   ]
  },
  {
   "cell_type": "code",
   "execution_count": 12,
   "id": "bf1cbcfa-b7dd-4871-b86c-38f783051b6c",
   "metadata": {
    "tags": []
   },
   "outputs": [
    {
     "data": {
      "text/plain": [
       "{'Member',\n",
       " 'Member of Organisation',\n",
       " 'Membership - Additional Notes',\n",
       " 'Membership - Original SIMON Text',\n",
       " 'Membership End Date - Additional Notes',\n",
       " 'Membership End Date Confidence Note',\n",
       " 'Membership End Date Confidence Probability Value',\n",
       " 'Membership End Date Confidence Type',\n",
       " 'Membership End Date Type',\n",
       " 'Membership End Date Value',\n",
       " 'Membership Start Date Confidence Note',\n",
       " 'Membership Start Date Confidence Probability Value',\n",
       " 'Membership Start Date Confidence Type',\n",
       " 'Membership Start Date Type',\n",
       " 'Membership Start Date Value',\n",
       " 'Membership Type',\n",
       " 'ResourceID'}"
      ]
     },
     "execution_count": 12,
     "metadata": {},
     "output_type": "execute_result"
    }
   ],
   "source": [
    "set(misc_memberships[0].keys()).intersection(set(guild_memberships[0].keys()))"
   ]
  },
  {
   "cell_type": "code",
   "execution_count": 13,
   "id": "ad1feba0-18ea-450b-aef8-fe685325d299",
   "metadata": {
    "tags": []
   },
   "outputs": [
    {
     "data": {
      "text/plain": [
       "{'ResourceID': 'bd56d3d2-bf1d-3948-9754-32529c66e3cd',\n",
       " 'Membership Start Date': '',\n",
       " 'Membership Start Date Confidence Assessment': '',\n",
       " 'Membership Start Date Confidence Type': '',\n",
       " 'Membership Start Date Confidence Note': '',\n",
       " 'Membership Start Date Confidence Probability Value': '',\n",
       " 'Membership Start Date Confidence Assessment - Additional Notes': '',\n",
       " 'Membership Start Date - Additional Notes': '',\n",
       " 'Membership Start Date Type': '',\n",
       " 'Membership Start Date Value': '',\n",
       " 'Membership - Original SIMON Text': '',\n",
       " 'Membership Type': '',\n",
       " 'Membership End Date': '',\n",
       " 'Membership End Date Type': '',\n",
       " 'Membership End Date Confidence Assessment': '',\n",
       " 'Membership End Date Confidence Note': '',\n",
       " 'Membership End Date Confidence Probability Value': '',\n",
       " 'Membership End Date Confidence Assessment - Additional Notes': '',\n",
       " 'Membership End Date Confidence Type': '',\n",
       " 'Membership End Date - Additional Notes': '',\n",
       " 'Membership End Date Value': '',\n",
       " 'Membership - Additional Notes': '',\n",
       " 'Member of Organisation': '[{\"inverseOntologyProperty\": \"\", \"ontologyProperty\": \"http://www.toolsofknowledge.org/SIMEOn#memberOf\", \"resourceId\": \"e5d1c313-5a14-3505-8497-930e62ec6859\", \"resourceXresourceId\": \"\"}]',\n",
       " 'Member': '[{\"inverseOntologyProperty\": \"http://www.toolsofknowledge.org/SIMEOn#wasMemberIn\", \"ontologyProperty\": \"http://www.toolsofknowledge.org/SIMEOn#hasMember\", \"resourceId\": \"9dbe2f5a-d5d0-39dc-9e96-186ca4d422d2\", \"resourceXresourceId\": \"\"}]'}"
      ]
     },
     "execution_count": 13,
     "metadata": {},
     "output_type": "execute_result"
    }
   ],
   "source": [
    "guild_memberships[0]"
   ]
  },
  {
   "cell_type": "markdown",
   "id": "669e1b9c-2e69-40bb-9c53-d329ed9eb61e",
   "metadata": {},
   "source": [
    "## Duplicate checker"
   ]
  },
  {
   "cell_type": "code",
   "execution_count": 118,
   "id": "5141c786-52b3-499a-9449-95b7dea21813",
   "metadata": {
    "tags": []
   },
   "outputs": [],
   "source": [
    "files = {}\n",
    "\n",
    "directory = os.fsencode('./business_data/')\n",
    "    \n",
    "for file in os.listdir(directory):\n",
    "    filename = os.fsdecode(file)\n",
    "    if filename.endswith(\".csv\"):\n",
    "        files[filename] = []\n",
    "        with open(os.path.join(directory, file)) as file:\n",
    "            reader = csv.DictReader(file)\n",
    "            for row in reader:\n",
    "                files[filename].append(row)\n",
    "            file.close()\n",
    "        continue\n",
    "    else:\n",
    "        continue"
   ]
  },
  {
   "cell_type": "code",
   "execution_count": 103,
   "id": "190e6d88-bbd8-4734-95ff-bafa74278a89",
   "metadata": {
    "tags": []
   },
   "outputs": [
    {
     "name": "stdout",
     "output_type": "stream",
     "text": [
      "Education.csv: total: 243 unique: 238\n",
      "Membership_2.csv: total: 984 unique: 983\n",
      "Supplying.csv: total: 68 unique: 67\n",
      "Membership_1.csv: total: 1000 unique: 999\n",
      "Business Appointment.csv: total: 211 unique: 202\n"
     ]
    }
   ],
   "source": [
    "# Check for duplicate rows\n",
    "\n",
    "for filename, records in files.items():\n",
    "    total_values = len(records)\n",
    "    unique_values = len(set([json.dumps(x) for x in records]))\n",
    "    if total_values != unique_values:\n",
    "        print('{filename}: total: {total_values} unique: {unique_values}'.format(filename=filename, total_values=total_values, unique_values=unique_values))\n",
    "    "
   ]
  },
  {
   "cell_type": "code",
   "execution_count": 104,
   "id": "94efbd16-b28d-4b40-9337-0244814dc8cb",
   "metadata": {
    "tags": []
   },
   "outputs": [
    {
     "name": "stdout",
     "output_type": "stream",
     "text": [
      "Supplying.csv: total_ids: 68 unique_ids: 66\n"
     ]
    }
   ],
   "source": [
    "# Check for duplicate keys within files\n",
    "\n",
    "for filename, records in files.items():\n",
    "    resource_ids = [x['ResourceID'] for x in records]\n",
    "    total_values = len(records)\n",
    "    unique_values = len(set([json.dumps(x) for x in records]))\n",
    "    total_ids = len(resource_ids)\n",
    "    unique_ids = len(set(resource_ids))\n",
    "    if unique_ids != unique_values:\n",
    "        print('{filename}: total_ids: {total_ids} unique_ids: {unique_ids}'.format(filename=filename, total_ids=total_ids, unique_ids=unique_ids))\n",
    "    "
   ]
  },
  {
   "cell_type": "code",
   "execution_count": 105,
   "id": "a33dc46a-4be3-467f-a236-306a633f4d59",
   "metadata": {
    "tags": []
   },
   "outputs": [
    {
     "name": "stdout",
     "output_type": "stream",
     "text": [
      "total: 82663\n",
      "unique: 80081\n"
     ]
    }
   ],
   "source": [
    "# Check for duplicate keys across all files\n",
    "\n",
    "all_resource_ids = []\n",
    "\n",
    "for filename, records in files.items():\n",
    "    resource_ids = [x['ResourceID'] for x in records]\n",
    "    all_resource_ids.extend(resource_ids)\n",
    "\n",
    "print('total: ' + str(len(all_resource_ids)))\n",
    "print('unique: ' + str(len(set(all_resource_ids))))"
   ]
  },
  {
   "cell_type": "code",
   "execution_count": 108,
   "id": "2b856256-638a-47dd-9c37-621553bdace1",
   "metadata": {
    "tags": []
   },
   "outputs": [],
   "source": [
    "# We have duplicate keys. Find out where they are\n",
    "\n",
    "files_with_ids = {}\n",
    "\n",
    "for filename, records in files.items():\n",
    "    files_with_ids[filename] = [x['ResourceID'] for x in records]"
   ]
  },
  {
   "cell_type": "code",
   "execution_count": 110,
   "id": "122436e4-30ba-47cd-b04d-89e9eceab9c6",
   "metadata": {
    "tags": []
   },
   "outputs": [
    {
     "name": "stderr",
     "output_type": "stream",
     "text": [
      "100%|███████████████████████████████████████████| 92/92 [01:21<00:00,  1.13it/s]\n"
     ]
    }
   ],
   "source": [
    "for filename, ids in tqdm.tqdm(files.items()):\n",
    "    for resource_id in ids:\n",
    "        for file_to_check, ids_to_check in files.items():\n",
    "            if file_to_check == filename:\n",
    "                continue\n",
    "            if resource_id in ids_to_check:\n",
    "                print(file_to_check)\n",
    "                "
   ]
  },
  {
   "cell_type": "code",
   "execution_count": 91,
   "id": "347bb862-8ec0-424d-a0df-188e9ce105f8",
   "metadata": {
    "tags": []
   },
   "outputs": [],
   "source": [
    "# Advertisings are the duplicates - let's strip out the duplicate rows\n",
    "\n",
    "advertising = []\n",
    "\n",
    "with open('./business_data/source_data/Advertising-v2-2023-06-29.csv') as file:\n",
    "    reader = csv.reader(file)\n",
    "    for row in reader:\n",
    "        if row not in advertising:\n",
    "            advertising.append(row)\n",
    "    file.close()"
   ]
  },
  {
   "cell_type": "code",
   "execution_count": 93,
   "id": "418bb8ce-b403-4940-b1df-c9efe778b06d",
   "metadata": {
    "tags": []
   },
   "outputs": [
    {
     "data": {
      "text/plain": [
       "['MakerID',\n",
       " 'Advertised Maker',\n",
       " 'Advertised Maker Occupation',\n",
       " 'Advertising Start Date Value',\n",
       " 'Advertising Start Date Type',\n",
       " 'Advertising Start Date Confidence Note',\n",
       " 'Advertising Start Date Confidence Probability Value',\n",
       " 'Advertising Start Date Confidence Type',\n",
       " 'Advertising Start Date  - Additional Notes',\n",
       " 'Advertising Start Date Confidence Assessment  - Additional Notes',\n",
       " 'Advertising End Date Value',\n",
       " 'Advertising End Date Type',\n",
       " 'Advertising End Date Confidence Note',\n",
       " 'Advertising End Date Confidence Probability Value',\n",
       " 'Advertising End Date Confidence Type',\n",
       " 'Advertising End Date - Additional Notes',\n",
       " 'Advertising End Date Confidence Assessment  - Additional Notes',\n",
       " 'Advertised Objects in Scientific Domain',\n",
       " 'Advertised Objects of Material',\n",
       " 'Advertised Objects for use in Occupation',\n",
       " 'Produced Advertisement',\n",
       " 'Advertising - Additional Notes',\n",
       " 'Advertising - Original SIMON Text',\n",
       " 'ResourceID']"
      ]
     },
     "execution_count": 93,
     "metadata": {},
     "output_type": "execute_result"
    }
   ],
   "source": [
    "advertising[0]"
   ]
  },
  {
   "cell_type": "code",
   "execution_count": 95,
   "id": "3e5a90be-f317-45ee-8821-3a953f90cc9d",
   "metadata": {
    "tags": []
   },
   "outputs": [],
   "source": [
    "with open('./business_data/source_data/Advertising-v3-2023-06-29.csv', 'w') as file:\n",
    "    writer = csv.writer(file)\n",
    "    for row in advertising:\n",
    "        writer.writerow(row)\n",
    "    file.close()"
   ]
  },
  {
   "cell_type": "code",
   "execution_count": 113,
   "id": "04846d01-e8a6-417d-b1a9-e50a6f747c47",
   "metadata": {
    "tags": []
   },
   "outputs": [],
   "source": [
    "total = 0\n",
    "\n",
    "for filename, records in files.items():\n",
    "    fields = len(records[0].keys()) * len(records)\n",
    "    total = total + fields"
   ]
  },
  {
   "cell_type": "code",
   "execution_count": 114,
   "id": "bf7a1edc-8357-4ec9-bde8-88519e91932a",
   "metadata": {
    "tags": []
   },
   "outputs": [
    {
     "data": {
      "text/plain": [
       "2331627"
      ]
     },
     "execution_count": 114,
     "metadata": {},
     "output_type": "execute_result"
    }
   ],
   "source": [
    "total"
   ]
  },
  {
   "cell_type": "code",
   "execution_count": 146,
   "id": "53c720d3-c7ce-4760-89e7-c85b8c8a2f25",
   "metadata": {
    "tags": []
   },
   "outputs": [
    {
     "name": "stderr",
     "output_type": "stream",
     "text": [
      "100%|██████████████████████████████████████████████████████████████████████████████████| 91/91 [00:00<00:00, 224.78it/s]\n"
     ]
    }
   ],
   "source": [
    "# Let's make a graph of the whole thing\n",
    "\n",
    "G = nx.Graph()\n",
    "\n",
    "# Add nodes\n",
    "for filename, records in tqdm.tqdm(files.items()):\n",
    "    props = list(records[0].keys())\n",
    "    for r in records:\n",
    "        resource_id = r['ResourceID']\n",
    "        node_dict = {}\n",
    "        node_type = filename[0:-4]\n",
    "        node_dict['Entity Type'] = re.sub(r'_\\d+', '', node_type)\n",
    "        for p in props:\n",
    "            if p == 'ResourceID':\n",
    "                continue\n",
    "            node_dict[p] = r[p]\n",
    "        G.add_nodes_from([(resource_id, node_dict)])"
   ]
  },
  {
   "cell_type": "code",
   "execution_count": 147,
   "id": "5d4cffc3-2941-4b1e-83f3-921ae25dc9ae",
   "metadata": {
    "tags": []
   },
   "outputs": [
    {
     "name": "stderr",
     "output_type": "stream",
     "text": [
      "100%|██████████████████████████████████████████████████████████████████████████████████| 91/91 [00:00<00:00, 228.29it/s]\n"
     ]
    }
   ],
   "source": [
    "# Add edges\n",
    "\n",
    "for filename, records in tqdm.tqdm(files.items()):\n",
    "    props = list(records[0].keys())\n",
    "    for r in records:\n",
    "        resource_id = r['ResourceID']\n",
    "        for p in props:\n",
    "            if 'ontologyProperty' in r[p]:\n",
    "                relation = json.loads(r[p])\n",
    "                target_node = relation[0]['resourceId']\n",
    "                ontology_property = relation[0]['ontologyProperty']\n",
    "                G.add_edge(resource_id, target_node, ontology_property=ontology_property)\n",
    "            #try:\n",
    "            #    relation = json.loads(r[p])\n",
    "            #    target_node = relation['resourceId']\n",
    "            #    ontology_property = relation['ontologyProperty']\n",
    "            #    G.add_edge(resource_id, target_node, ontology_property=ontology_property)\n",
    "            #except Exception as e:\n",
    "            #    continue"
   ]
  },
  {
   "cell_type": "code",
   "execution_count": 148,
   "id": "bc623552-4483-4b47-8be2-89e58ac82bfc",
   "metadata": {
    "tags": []
   },
   "outputs": [
    {
     "data": {
      "text/plain": [
       "109744"
      ]
     },
     "execution_count": 148,
     "metadata": {},
     "output_type": "execute_result"
    }
   ],
   "source": [
    "len(G.edges)"
   ]
  },
  {
   "cell_type": "code",
   "execution_count": 149,
   "id": "a7eefdca-2a4d-477d-861b-6436cf50641f",
   "metadata": {
    "tags": []
   },
   "outputs": [],
   "source": [
    "nx.write_gexf(G, './SEMSIM-total-graph-v1-2023-07-01.gexf')"
   ]
  },
  {
   "cell_type": "code",
   "execution_count": 135,
   "id": "ae904386-18e7-4d17-ab3f-42f2496923a2",
   "metadata": {
    "tags": []
   },
   "outputs": [
    {
     "data": {
      "text/plain": [
       "'Advertising_2.csv'"
      ]
     },
     "execution_count": 135,
     "metadata": {},
     "output_type": "execute_result"
    }
   ],
   "source": [
    "filename"
   ]
  },
  {
   "cell_type": "code",
   "execution_count": 141,
   "id": "a5d074be-1c1a-4ac0-a3f1-920c8a0acb0c",
   "metadata": {
    "tags": []
   },
   "outputs": [
    {
     "data": {
      "text/plain": [
       "'Advertising_2'"
      ]
     },
     "execution_count": 141,
     "metadata": {},
     "output_type": "execute_result"
    }
   ],
   "source": [
    "filename.replace(r'_d', '').replace('.csv', '')"
   ]
  },
  {
   "cell_type": "code",
   "execution_count": 142,
   "id": "68137dff-347c-4188-abb0-92da543abd0e",
   "metadata": {
    "tags": []
   },
   "outputs": [
    {
     "data": {
      "text/plain": [
       "\u001b[0;31mSignature:\u001b[0m \u001b[0mstr\u001b[0m\u001b[0;34m.\u001b[0m\u001b[0mreplace\u001b[0m\u001b[0;34m(\u001b[0m\u001b[0mself\u001b[0m\u001b[0;34m,\u001b[0m \u001b[0mold\u001b[0m\u001b[0;34m,\u001b[0m \u001b[0mnew\u001b[0m\u001b[0;34m,\u001b[0m \u001b[0mcount\u001b[0m\u001b[0;34m=\u001b[0m\u001b[0;34m-\u001b[0m\u001b[0;36m1\u001b[0m\u001b[0;34m,\u001b[0m \u001b[0;34m/\u001b[0m\u001b[0;34m)\u001b[0m\u001b[0;34m\u001b[0m\u001b[0;34m\u001b[0m\u001b[0m\n",
       "\u001b[0;31mDocstring:\u001b[0m\n",
       "Return a copy with all occurrences of substring old replaced by new.\n",
       "\n",
       "  count\n",
       "    Maximum number of occurrences to replace.\n",
       "    -1 (the default value) means replace all occurrences.\n",
       "\n",
       "If the optional argument count is given, only the first count occurrences are\n",
       "replaced.\n",
       "\u001b[0;31mType:\u001b[0m      method_descriptor"
      ]
     },
     "metadata": {},
     "output_type": "display_data"
    }
   ],
   "source": [
    "str.replace?"
   ]
  },
  {
   "cell_type": "code",
   "execution_count": 145,
   "id": "4f721704-0578-4970-8281-e87411fbeb43",
   "metadata": {
    "tags": []
   },
   "outputs": [
    {
     "data": {
      "text/plain": [
       "'Advertising.csv'"
      ]
     },
     "execution_count": 145,
     "metadata": {},
     "output_type": "execute_result"
    }
   ],
   "source": [
    "re.sub(r'_\\d+', '', filename)"
   ]
  },
  {
   "cell_type": "code",
   "execution_count": 150,
   "id": "7eaa2fba-2e90-480e-84a1-e7e5269b0317",
   "metadata": {
    "tags": []
   },
   "outputs": [],
   "source": [
    "lines = []\n",
    "with open('./resource_import.log') as file:\n",
    "    for line in file:\n",
    "        lines.append(line)\n",
    "    file.close()"
   ]
  },
  {
   "cell_type": "code",
   "execution_count": 167,
   "id": "e81c8130-b5b2-49af-8494-4bf2ad6f123f",
   "metadata": {
    "tags": []
   },
   "outputs": [
    {
     "ename": "AttributeError",
     "evalue": "'str' object has no attribute 'search'",
     "output_type": "error",
     "traceback": [
      "\u001b[0;31m---------------------------------------------------------------------------\u001b[0m",
      "\u001b[0;31mAttributeError\u001b[0m                            Traceback (most recent call last)",
      "Cell \u001b[0;32mIn[167], line 1\u001b[0m\n\u001b[0;32m----> 1\u001b[0m \u001b[43mlines\u001b[49m\u001b[43m[\u001b[49m\u001b[38;5;241;43m0\u001b[39;49m\u001b[43m]\u001b[49m\u001b[38;5;241;43m.\u001b[39;49m\u001b[43msearch\u001b[49m(\u001b[38;5;124mr\u001b[39m\u001b[38;5;124m\"\u001b[39m\u001b[38;5;124mThe related resource with id \u001b[39m\u001b[38;5;124m'\u001b[39m\u001b[38;5;124m[a-zA-Z0-9-]\u001b[39m\u001b[38;5;124m\"\u001b[39m)\n",
      "\u001b[0;31mAttributeError\u001b[0m: 'str' object has no attribute 'search'"
     ]
    }
   ],
   "source": [
    "lines[0].search(r\"The related resource with id '[a-zA-Z0-9-]\")"
   ]
  },
  {
   "cell_type": "code",
   "execution_count": 176,
   "id": "6abefa40-736b-4cb9-ad7f-c0c805d79378",
   "metadata": {
    "tags": []
   },
   "outputs": [],
   "source": [
    "m = re.search(r\"The related resource with id '[a-zA-Z0-9-]+\", lines[0])"
   ]
  },
  {
   "cell_type": "code",
   "execution_count": 175,
   "id": "0a549f7d-1315-4aa3-9dc0-7f88c617335c",
   "metadata": {
    "tags": []
   },
   "outputs": [],
   "source": [
    "re.match(r\"The related resource with id '[a-zA-Z0-9-]+\", lines[0])"
   ]
  },
  {
   "cell_type": "code",
   "execution_count": 172,
   "id": "573bd4cd-580d-47db-8ed0-269cb158deb0",
   "metadata": {
    "tags": []
   },
   "outputs": [
    {
     "data": {
      "text/plain": [
       "'eaf35b64-e131-32bc-a107-d0269a446ea1'"
      ]
     },
     "execution_count": 172,
     "metadata": {},
     "output_type": "execute_result"
    }
   ],
   "source": [
    "m.group(0).split('\\'')[1]"
   ]
  },
  {
   "cell_type": "code",
   "execution_count": 182,
   "id": "1fba7de1-c14e-4f84-a8f5-55b35108c619",
   "metadata": {
    "tags": []
   },
   "outputs": [],
   "source": [
    "presumed_missing_ids = []\n",
    "\n",
    "for l in lines:\n",
    "    m = re.search(r\"The related resource with id '[a-zA-Z0-9-]+\", l)\n",
    "    if m:\n",
    "        resource_id = m.group(0).split('\\'')[1]\n",
    "        if resource_id not in presumed_missing_ids:\n",
    "            presumed_missing_ids.append(resource_id)\n",
    "\n",
    "    "
   ]
  },
  {
   "cell_type": "code",
   "execution_count": 208,
   "id": "0cd418f0-85e7-4937-b2ca-d4759e288425",
   "metadata": {
    "tags": []
   },
   "outputs": [
    {
     "data": {
      "text/plain": [
       "9778"
      ]
     },
     "execution_count": 208,
     "metadata": {},
     "output_type": "execute_result"
    }
   ],
   "source": [
    "len(presumed_missing_ids)"
   ]
  },
  {
   "cell_type": "code",
   "execution_count": 180,
   "id": "2d028392-1bf6-4d5b-868d-db4222e6dfab",
   "metadata": {
    "tags": []
   },
   "outputs": [
    {
     "name": "stderr",
     "output_type": "stream",
     "text": [
      "100%|███████████████████████████████████████████████████████████████████████████████████| 91/91 [00:22<00:00,  3.97it/s]\n"
     ]
    }
   ],
   "source": [
    "all_ids = []\n",
    "\n",
    "for filename, records in tqdm.tqdm(files.items()):\n",
    "    for r in records:\n",
    "        resource_id = r['ResourceID']\n",
    "        if resource_id not in all_ids:\n",
    "            all_ids.append(resource_id)"
   ]
  },
  {
   "cell_type": "code",
   "execution_count": 181,
   "id": "c12b3545-0c4d-42f5-b9df-fb54bebba752",
   "metadata": {
    "tags": []
   },
   "outputs": [
    {
     "data": {
      "text/plain": [
       "80081"
      ]
     },
     "execution_count": 181,
     "metadata": {},
     "output_type": "execute_result"
    }
   ],
   "source": [
    "len(all_ids)"
   ]
  },
  {
   "cell_type": "code",
   "execution_count": 183,
   "id": "fe9549dd-9d17-4198-b165-5ebb1cb0fc58",
   "metadata": {
    "tags": []
   },
   "outputs": [],
   "source": [
    "actually_missing_ids = []\n",
    "\n",
    "for r_id in presumed_missing_ids:\n",
    "    if r_id not in all_ids:\n",
    "        actually_missing_ids.append(r_id)"
   ]
  },
  {
   "cell_type": "code",
   "execution_count": 184,
   "id": "7bdcc5fb-2955-4158-922e-eaf5db07845a",
   "metadata": {
    "tags": []
   },
   "outputs": [
    {
     "data": {
      "text/plain": [
       "84"
      ]
     },
     "execution_count": 184,
     "metadata": {},
     "output_type": "execute_result"
    }
   ],
   "source": [
    "len(actually_missing_ids)"
   ]
  },
  {
   "cell_type": "code",
   "execution_count": 198,
   "id": "b6822a41-da01-462f-a6a9-dfef3537c9ed",
   "metadata": {
    "tags": []
   },
   "outputs": [
    {
     "name": "stderr",
     "output_type": "stream",
     "text": [
      "100%|███████████████████████████████████████████████████████████████████████████████████| 91/91 [00:00<00:00, 97.42it/s]\n"
     ]
    }
   ],
   "source": [
    "unstitched_records = {}\n",
    "\n",
    "records_to_create = []\n",
    "\n",
    "for filename, records in tqdm.tqdm(files.items()):\n",
    "    fn = filename[0:-4]\n",
    "    fn = re.sub(r'_\\d+', '', fn)\n",
    "    for row in records:\n",
    "        row_str = '|'.join([x for x in row.values()])\n",
    "        relations = re.findall(r'[a-zA-Z0-9-]{36}', row_str)\n",
    "        for r in relations:\n",
    "            if r in actually_missing_ids:\n",
    "                for key, value in row.items():\n",
    "                    if r in value:\n",
    "                        records_to_create.append(value)\n",
    "                if fn not in unstitched_records.keys():\n",
    "                    unstitched_records[fn] = []\n",
    "                unstitched_records[fn].append((row, r))\n",
    "            "
   ]
  },
  {
   "cell_type": "code",
   "execution_count": 197,
   "id": "4174eaba-a775-4bbc-9b97-81ed3e6f7031",
   "metadata": {
    "tags": []
   },
   "outputs": [
    {
     "ename": "AttributeError",
     "evalue": "'dict' object has no attribute 'sort'",
     "output_type": "error",
     "traceback": [
      "\u001b[0;31m---------------------------------------------------------------------------\u001b[0m",
      "\u001b[0;31mAttributeError\u001b[0m                            Traceback (most recent call last)",
      "Cell \u001b[0;32mIn[197], line 1\u001b[0m\n\u001b[0;32m----> 1\u001b[0m \u001b[43munstitched_records\u001b[49m\u001b[38;5;241;43m.\u001b[39;49m\u001b[43msort\u001b[49m(key\u001b[38;5;241m=\u001b[39mkey)\n",
      "\u001b[0;31mAttributeError\u001b[0m: 'dict' object has no attribute 'sort'"
     ]
    }
   ],
   "source": []
  },
  {
   "cell_type": "code",
   "execution_count": 199,
   "id": "16c6285c-79ef-465a-9f3e-f89b07cfb30b",
   "metadata": {
    "tags": []
   },
   "outputs": [
    {
     "name": "stdout",
     "output_type": "stream",
     "text": [
      "At Address 174\n",
      "Advertising 124\n",
      "Marriage 4\n",
      "Membership 19\n",
      "Person 4\n",
      "Supplying 1\n",
      "Business Appointment 23\n",
      "Employment 6\n",
      "Takeover 37\n",
      "Apprenticeship 21\n",
      "Object 19\n",
      "Royal Appointment 163\n"
     ]
    }
   ],
   "source": [
    "for filename, records in unstitched_records.items():\n",
    "    print(filename, len(records))"
   ]
  },
  {
   "cell_type": "code",
   "execution_count": 210,
   "id": "a9112795-6537-46c8-b268-78dc9303859d",
   "metadata": {
    "tags": []
   },
   "outputs": [],
   "source": [
    "missing_makers = []\n",
    "\n",
    "for r in unstitched_records['At Address']:\n",
    "    maker_id = r[0]['maker_id']\n",
    "    if maker_id not in missing_makers:\n",
    "        missing_makers.append(maker_id)"
   ]
  },
  {
   "cell_type": "code",
   "execution_count": 211,
   "id": "60d086bf-890e-45c5-8ba1-05e2fa9bfa07",
   "metadata": {
    "tags": []
   },
   "outputs": [],
   "source": [
    "for r in unstitched_records['Advertising']:\n",
    "    maker_id = r[0]['MakerID']\n",
    "    if maker_id not in missing_makers:\n",
    "        missing_makers.append(maker_id)"
   ]
  },
  {
   "cell_type": "code",
   "execution_count": 214,
   "id": "98c4582a-cbe2-42b1-ba89-60b990b5e2eb",
   "metadata": {
    "tags": []
   },
   "outputs": [],
   "source": [
    "for r in unstitched_records['Royal Appointment']:\n",
    "    maker_id = r[0]['\\ufeffRoyal Appointment - Maker Appointed - Makers_ref']\n",
    "    if maker_id not in missing_makers:\n",
    "        missing_makers.append(maker_id)"
   ]
  },
  {
   "cell_type": "code",
   "execution_count": 215,
   "id": "133f51c6-3be4-4ce2-85dd-3d08391a1d58",
   "metadata": {
    "tags": []
   },
   "outputs": [
    {
     "data": {
      "text/plain": [
       "206"
      ]
     },
     "execution_count": 215,
     "metadata": {},
     "output_type": "execute_result"
    }
   ],
   "source": [
    "len(missing_makers)"
   ]
  },
  {
   "cell_type": "code",
   "execution_count": 219,
   "id": "59090384-19bc-495c-a66f-933d5e9a918d",
   "metadata": {
    "tags": []
   },
   "outputs": [
    {
     "data": {
      "text/plain": [
       "({'ResourceID': '728ed30a-3903-381c-8ddd-37d2d93d20b3',\n",
       "  'Taken Over By': '[{\"inverseOntologyProperty\": \"http://www.toolsofknowledge.org/SIMEOn#tookOverIn\", \"ontologyProperty\": \"http://www.toolsofknowledge.org/SIMEOn#takenOverBy\", \"resourceId\": \"355f984e-fc18-3ca2-9e55-475a99eded5f\", \"resourceXresourceId\": \"\"}]',\n",
       "  'Took Over': '[{\"inverseOntologyProperty\": \"http://www.toolsofknowledge.org/SIMEOn#takenOverIn\", \"ontologyProperty\": \"http://www.toolsofknowledge.org/SIMEOn#tookOver\", \"resourceId\": \"d3e3d3d0-02ca-3b2e-9996-349ebf92afce\", \"resourceXresourceId\": \"\"}]',\n",
       "  'Takeover - Additional Notes ': '',\n",
       "  'Takeover Date': '',\n",
       "  'Takeover Date Confidence Assessment': '',\n",
       "  'Takeover Date Confidence Type': '',\n",
       "  'Takeover Date Confidence Note ': '',\n",
       "  'Takeover Date Confidence Probability Value ': '',\n",
       "  'Takeover Date Confidence Assessment - Additional Notes ': '',\n",
       "  'Takeover Date - Additional Notes ': '',\n",
       "  'Takeover Date Type': '',\n",
       "  'Takeover Date Value': ''},\n",
       " '355f984e-fc18-3ca2-9e55-475a99eded5f')"
      ]
     },
     "execution_count": 219,
     "metadata": {},
     "output_type": "execute_result"
    }
   ],
   "source": [
    "unstitched_records['Takeover'][0]"
   ]
  },
  {
   "cell_type": "code",
   "execution_count": 207,
   "id": "85d40cc4-5f84-4d6a-a7da-8adb5d88b88f",
   "metadata": {
    "tags": []
   },
   "outputs": [
    {
     "data": {
      "text/plain": [
       "83"
      ]
     },
     "execution_count": 207,
     "metadata": {},
     "output_type": "execute_result"
    }
   ],
   "source": [
    "len(missing_makers)"
   ]
  },
  {
   "cell_type": "code",
   "execution_count": 221,
   "id": "d4b18b91-048f-4469-86bc-44b4e5eb7311",
   "metadata": {
    "tags": []
   },
   "outputs": [
    {
     "data": {
      "text/plain": [
       "206"
      ]
     },
     "execution_count": 221,
     "metadata": {},
     "output_type": "execute_result"
    }
   ],
   "source": [
    "len(missing_makers)"
   ]
  },
  {
   "cell_type": "code",
   "execution_count": 235,
   "id": "f3e4245a-c435-4851-a892-86f78abd076d",
   "metadata": {
    "tags": []
   },
   "outputs": [],
   "source": [
    "did_not_load = []\n",
    "\n",
    "for filename, records in files.items():\n",
    "    if ('Person' in filename):\n",
    "        for row in records:\n",
    "            id_to_check = row['Simon ID']\n",
    "            if id_to_check in missing_makers:\n",
    "                did_not_load.append(id_to_check)\n",
    "                \n",
    "for filename, records in files.items():\n",
    "    if ('Organisation' in filename):\n",
    "        for row in records:\n",
    "            id_to_check = row['SIMON ID']\n",
    "            if id_to_check in missing_makers:\n",
    "                did_not_load.append(id_to_check)"
   ]
  },
  {
   "cell_type": "code",
   "execution_count": 236,
   "id": "df886b3b-bd73-4e3a-8ef6-58b832356106",
   "metadata": {
    "tags": []
   },
   "outputs": [
    {
     "data": {
      "text/plain": [
       "123"
      ]
     },
     "execution_count": 236,
     "metadata": {},
     "output_type": "execute_result"
    }
   ],
   "source": [
    "len(did_not_load)"
   ]
  },
  {
   "cell_type": "code",
   "execution_count": 237,
   "id": "9a1461fc-11ab-41e7-8d97-7d150637b670",
   "metadata": {
    "tags": []
   },
   "outputs": [],
   "source": [
    "not_in_data = []\n",
    "\n",
    "for m in missing_makers:\n",
    "    if m not in did_not_load:\n",
    "        not_in_data.append(m)\n",
    "    "
   ]
  },
  {
   "cell_type": "code",
   "execution_count": 238,
   "id": "22d8bad1-6fd4-43fb-b265-44fe58052a6d",
   "metadata": {
    "tags": []
   },
   "outputs": [
    {
     "data": {
      "text/plain": [
       "83"
      ]
     },
     "execution_count": 238,
     "metadata": {},
     "output_type": "execute_result"
    }
   ],
   "source": [
    "len(not_in_data)"
   ]
  },
  {
   "cell_type": "code",
   "execution_count": 24,
   "id": "e523fc7f-e63d-43f7-ae29-2f0f07ea9a07",
   "metadata": {
    "tags": []
   },
   "outputs": [],
   "source": [
    "# Create a csv of all the concepts and ids in the package\n",
    "\n",
    "files = []\n",
    "\n",
    "directory = os.fsencode('./reference_data/concepts/')\n",
    "    \n",
    "for file in os.listdir(directory):\n",
    "    filename = os.fsdecode(file)\n",
    "    if filename != 'e7cafa53-d330-3705-b19b-665e4862b0bf.xml':\n",
    "        continue\n",
    "    if filename.endswith(\".xml\"):\n",
    "        with open(os.path.join(directory, file)) as file:\n",
    "            file_string = file.read()\n",
    "            files.append(file_string)\n",
    "            file.close()"
   ]
  },
  {
   "cell_type": "code",
   "execution_count": 25,
   "id": "1569d34f-ee92-4380-9c62-439d3db56e5f",
   "metadata": {
    "tags": []
   },
   "outputs": [],
   "source": [
    "preflabels = []\n",
    "\n",
    "for f in files:\n",
    "    matches = re.findall(r'<skos:prefLabel xml:lang=\"en\">\\{.*\\}', f)\n",
    "    if len(matches):\n",
    "        for m in matches:\n",
    "            preflabels.append(m)"
   ]
  },
  {
   "cell_type": "code",
   "execution_count": 26,
   "id": "a70e01b1-5688-40ea-8420-b055ec25810e",
   "metadata": {
    "tags": []
   },
   "outputs": [
    {
     "data": {
      "text/plain": [
       "['<skos:prefLabel xml:lang=\"en\">{\"id\": \"6ec458a2-36cb-424e-84a6-0773529b05a0\", \"value\": \"Fine\"}']"
      ]
     },
     "execution_count": 26,
     "metadata": {},
     "output_type": "execute_result"
    }
   ],
   "source": [
    "string = '<skos:prefLabel xml:lang=\"en\">{\"id\": \"6ec458a2-36cb-424e-84a6-0773529b05a0\", \"value\": \"Fine\"}'\n",
    "re.findall(r'<skos:prefLabel xml:lang=\"en\">\\{.*\\}', string)"
   ]
  },
  {
   "cell_type": "code",
   "execution_count": 27,
   "id": "3c9bed5e-b714-43b1-9ec5-55604402689d",
   "metadata": {
    "tags": []
   },
   "outputs": [],
   "source": [
    "terms = []\n",
    "\n",
    "for pf in preflabels:\n",
    "    pf_obj = json.loads(pf[30:])\n",
    "    terms.append(pf_obj)"
   ]
  },
  {
   "cell_type": "code",
   "execution_count": 28,
   "id": "2779d1e3-6feb-4b2c-bc6c-58d8d95f0929",
   "metadata": {
    "tags": []
   },
   "outputs": [],
   "source": [
    "with open('./educator-role-types-v1-2023-10-09.csv', 'w') as file:\n",
    "    fieldnames = list(terms[0].keys())\n",
    "    writer = csv.DictWriter(file, fieldnames=fieldnames)\n",
    "    writer.writeheader()\n",
    "    for row in terms:\n",
    "        writer.writerow(row)\n",
    "    file.close()"
   ]
  },
  {
   "cell_type": "code",
   "execution_count": 301,
   "id": "2b98709b-4242-40e2-a03b-b9169e7343c4",
   "metadata": {
    "tags": []
   },
   "outputs": [
    {
     "data": {
      "text/plain": [
       "'<skos:prefLabel xml:lang=\"en\">{\"id\": \"554ca2fa-c779-4b75-bff5-db5ac6443055\", \"value\": \"tea\"}'"
      ]
     },
     "execution_count": 301,
     "metadata": {},
     "output_type": "execute_result"
    }
   ],
   "source": [
    "preflabels[0]"
   ]
  },
  {
   "cell_type": "markdown",
   "id": "8ea8b3a0-12f4-4e9c-9d6a-8ba5c6725298",
   "metadata": {},
   "source": [
    "## Reconciliation data"
   ]
  },
  {
   "cell_type": "code",
   "execution_count": 2,
   "id": "0514fc7a-f6b1-42a9-9635-db13c141cb01",
   "metadata": {
    "tags": []
   },
   "outputs": [],
   "source": [
    "data = []\n",
    "\n",
    "with open('./business_data/source_data/Place-Complete-v2-2023-09-13.csv') as file:\n",
    "    reader = csv.DictReader(file)\n",
    "    for row in reader:\n",
    "        data.append(row)\n",
    "    file.close()"
   ]
  },
  {
   "cell_type": "code",
   "execution_count": 3,
   "id": "3b01d36a-d99c-43f0-afc3-f6fac97e343b",
   "metadata": {
    "tags": []
   },
   "outputs": [
    {
     "data": {
      "text/plain": [
       "dict_keys(['ResourceID', 'Place Name', 'Place - Additional Notes', 'Place - Getty Identifier', 'Place - Geonames Identifier', 'Location', 'Place Documented In Source'])"
      ]
     },
     "execution_count": 3,
     "metadata": {},
     "output_type": "execute_result"
    }
   ],
   "source": [
    "data[0].keys()"
   ]
  },
  {
   "cell_type": "code",
   "execution_count": 4,
   "id": "58624042-f010-488e-9287-c88a71246c9f",
   "metadata": {
    "tags": []
   },
   "outputs": [],
   "source": [
    "def save_csv(resource_list, filepath):\n",
    "    with open(filepath, 'w') as file:\n",
    "        fieldnames = list(resource_list[0].keys())\n",
    "        writer = csv.DictWriter(file, fieldnames)\n",
    "        writer.writeheader()\n",
    "        for row in resource_list:\n",
    "            writer.writerow(row)\n",
    "        file.close()"
   ]
  },
  {
   "cell_type": "code",
   "execution_count": 5,
   "id": "7bc96ad5-9f52-439d-aba6-dc8e067a4cd8",
   "metadata": {
    "tags": []
   },
   "outputs": [],
   "source": [
    "places = [{'Place Name': x['Place Name'], 'ResourceID': x['ResourceID']} for x in data]"
   ]
  },
  {
   "cell_type": "code",
   "execution_count": 6,
   "id": "91b3dc1a-f1d6-418d-b772-f5e1266c6885",
   "metadata": {
    "tags": []
   },
   "outputs": [
    {
     "data": {
      "text/plain": [
       "2388"
      ]
     },
     "execution_count": 6,
     "metadata": {},
     "output_type": "execute_result"
    }
   ],
   "source": [
    "len(places)"
   ]
  },
  {
   "cell_type": "code",
   "execution_count": 9,
   "id": "0a957910-f8ad-4ed3-9193-bcd122b8fa3a",
   "metadata": {
    "tags": []
   },
   "outputs": [],
   "source": [
    "save_csv(places, './places-simple-v1-2023-09-26.csv')"
   ]
  },
  {
   "cell_type": "code",
   "execution_count": 22,
   "id": "dc443550-042e-43d2-a3e0-89268b5dc4e4",
   "metadata": {
    "tags": []
   },
   "outputs": [],
   "source": [
    "data = []\n",
    "\n",
    "with open('./business_data/source_data/Organisation-Complete-v4-2023-07-11.csv') as file:\n",
    "    reader = csv.DictReader(file)\n",
    "    for row in reader:\n",
    "        data.append(row)\n",
    "    file.close()"
   ]
  },
  {
   "cell_type": "code",
   "execution_count": 12,
   "id": "0083844c-0747-4fe5-86c5-4db91311ca56",
   "metadata": {
    "tags": []
   },
   "outputs": [],
   "source": [
    "orgs = [{'Organisation Name': x['Organisation Name'], 'ResourceID': x['ResourceID']} for x in data]"
   ]
  },
  {
   "cell_type": "code",
   "execution_count": 13,
   "id": "129705c3-8568-48c5-a34c-50d6efb275b5",
   "metadata": {
    "tags": []
   },
   "outputs": [
    {
     "data": {
      "text/plain": [
       "{'Organisation Name': 'MINNS & CO., Sidney',\n",
       " 'ResourceID': '00018eea-dcc6-3160-9ccc-7f5a773299eb'}"
      ]
     },
     "execution_count": 13,
     "metadata": {},
     "output_type": "execute_result"
    }
   ],
   "source": [
    "orgs[0]"
   ]
  },
  {
   "cell_type": "code",
   "execution_count": 14,
   "id": "9fc730ca-d428-4523-9472-57be6a1083bf",
   "metadata": {
    "tags": []
   },
   "outputs": [],
   "source": [
    "save_csv(orgs, './organisations-simple-v1-2023-09-26.csv')"
   ]
  },
  {
   "cell_type": "code",
   "execution_count": 15,
   "id": "8597796a-5dc2-487f-8222-264822b3c40f",
   "metadata": {
    "tags": []
   },
   "outputs": [],
   "source": [
    "data = []\n",
    "\n",
    "with open('./business_data/source_data/Person-v5-2023-06-08.csv') as file:\n",
    "    reader = csv.DictReader(file)\n",
    "    for row in reader:\n",
    "        data.append(row)\n",
    "    file.close()"
   ]
  },
  {
   "cell_type": "code",
   "execution_count": 16,
   "id": "d2aa1c22-3107-462e-b76b-26d7f6222631",
   "metadata": {
    "tags": []
   },
   "outputs": [],
   "source": [
    "persons = [{'Given Name': x['Given Name'], 'Surname': x['Surname'], 'ResourceID': x['ResourceID']} for x in data]"
   ]
  },
  {
   "cell_type": "code",
   "execution_count": 18,
   "id": "c2720914-abd4-410e-94ba-2a3027b6f4c0",
   "metadata": {
    "tags": []
   },
   "outputs": [],
   "source": [
    "save_csv(persons, './persons-simple-v1-2023-09-26.csv')"
   ]
  },
  {
   "cell_type": "code",
   "execution_count": 24,
   "id": "881d77e6-533a-4d31-b6c4-3e654adfe16d",
   "metadata": {
    "tags": []
   },
   "outputs": [],
   "source": [
    "orgs2 = [{'Simon ID': x['SIMON ID'], 'ResourceID': x['ResourceID']} for x in data]"
   ]
  },
  {
   "cell_type": "code",
   "execution_count": 25,
   "id": "5b797f13-020f-41b2-9b0a-456a2de51d3a",
   "metadata": {
    "tags": []
   },
   "outputs": [],
   "source": [
    "save_csv(orgs2, './organisations-simonId-to-ResoourceID-v1-2023-09-29.csv')"
   ]
  },
  {
   "cell_type": "code",
   "execution_count": null,
   "id": "8a55d4d9-e2e9-4a3a-af73-86b02682ccd2",
   "metadata": {},
   "outputs": [],
   "source": []
  }
 ],
 "metadata": {
  "kernelspec": {
   "display_name": "Python 3 (ipykernel)",
   "language": "python",
   "name": "python3"
  },
  "language_info": {
   "codemirror_mode": {
    "name": "ipython",
    "version": 3
   },
   "file_extension": ".py",
   "mimetype": "text/x-python",
   "name": "python",
   "nbconvert_exporter": "python",
   "pygments_lexer": "ipython3",
   "version": "3.10.10"
  }
 },
 "nbformat": 4,
 "nbformat_minor": 5
}
